{
 "cells": [
  {
   "cell_type": "code",
   "execution_count": 2,
   "metadata": {},
   "outputs": [
    {
     "name": "stdout",
     "output_type": "stream",
     "text": [
      "['load_data_with_illum.csv', 'load_data.csv']\n",
      "Backup created: load_data_csv_orig/2024_12_09_Batch_11/2024-12-09_B11A1R1/load_data_with_illum.csv.bak\n",
      "Updated: load_data_csv_orig/2024_12_09_Batch_11/2024-12-09_B11A1R1/load_data_with_illum.csv\n",
      "Backup created: load_data_csv_orig/2024_12_09_Batch_11/2024-12-09_B11A1R1/load_data.csv.bak\n",
      "Updated: load_data_csv_orig/2024_12_09_Batch_11/2024-12-09_B11A1R1/load_data.csv\n",
      "All files processed.\n",
      "['load_data_with_illum.csv', 'load_data.csv']\n",
      "Backup created: load_data_csv/2024_12_09_Batch_11/2024-12-09_B11A1R1/load_data_with_illum.csv.bak\n",
      "Updated: load_data_csv/2024_12_09_Batch_11/2024-12-09_B11A1R1/load_data_with_illum.csv\n",
      "Backup created: load_data_csv/2024_12_09_Batch_11/2024-12-09_B11A1R1/load_data.csv.bak\n",
      "Updated: load_data_csv/2024_12_09_Batch_11/2024-12-09_B11A1R1/load_data.csv\n",
      "All files processed.\n"
     ]
    }
   ],
   "source": [
    "import shutil\n",
    "import pandas as pd\n",
    "import os\n",
    "\n",
    "# Define the paths to your CSV files\n",
    "batch_dirs = [\"load_data_csv_orig/2024_12_09_Batch_11/2024-12-09_B11A1R1\", \"load_data_csv/2024_12_09_Batch_11/2024-12-09_B11A1R1\"]\n",
    "\n",
    "for batch_dir in batch_dirs:\n",
    "    file_paths = os.listdir(batch_dir)  # Replace with your actual filenames\n",
    "    print(file_paths)\n",
    "\n",
    "    # Define your substitutions\n",
    "    substitutions = {\n",
    "        \"2024-12-09 1% rescreen R1\": \"2024-12-09_B11A1R1\",\n",
    "        \"2024-12-09_B11A1R1_widefield__2024-12-09T13_40_28-Measurement_1\": \n",
    "        \"2024-12-09_B11A1R1__2024-12-09T08_49_55-Measurement_1\"\n",
    "    }\n",
    "\n",
    "    # Process each file\n",
    "    for file_path in file_paths:\n",
    "        # Create a backup\n",
    "        backup_path = os.path.join(batch_dir, file_path) + '.bak'\n",
    "        shutil.copy(os.path.join(batch_dir, file_path), backup_path)\n",
    "        print(f\"Backup created: {backup_path}\")\n",
    "\n",
    "        # file_df = pd.read_csv(file_path, header=0)\n",
    "        # display(file_df)\n",
    "        # break\n",
    "\n",
    "        # Read the original file\n",
    "        with open(os.path.join(batch_dir, file_path), 'r', encoding='utf-8') as file:\n",
    "            content = file.read()\n",
    "\n",
    "        # Apply all substitutions\n",
    "        for old, new in substitutions.items():\n",
    "            content = content.replace(old, new)\n",
    "\n",
    "        # Write the modified content back to the original file\n",
    "        with open(os.path.join(batch_dir, file_path), 'w', encoding='utf-8') as file:\n",
    "            file.write(content)\n",
    "\n",
    "        print(f\"Updated: {os.path.join(batch_dir, file_path)}\")\n",
    "\n",
    "    print(\"All files processed.\")"
   ]
  },
  {
   "cell_type": "code",
   "execution_count": null,
   "metadata": {},
   "outputs": [],
   "source": []
  }
 ],
 "metadata": {
  "kernelspec": {
   "display_name": "cellprofiler",
   "language": "python",
   "name": "python3"
  },
  "language_info": {
   "codemirror_mode": {
    "name": "ipython",
    "version": 3
   },
   "file_extension": ".py",
   "mimetype": "text/x-python",
   "name": "python",
   "nbconvert_exporter": "python",
   "pygments_lexer": "ipython3",
   "version": "3.8.20"
  }
 },
 "nbformat": 4,
 "nbformat_minor": 2
}
